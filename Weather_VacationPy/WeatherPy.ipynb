{
 "cells": [
  {
   "cell_type": "markdown",
   "metadata": {},
   "source": [
    "# WeatherPy\n",
    "----\n"
   ]
  },
  {
   "cell_type": "code",
   "execution_count": null,
   "metadata": {},
   "outputs": [],
   "source": [
    "%matplotlib notebook"
   ]
  },
  {
   "cell_type": "code",
   "execution_count": null,
   "metadata": {
    "scrolled": true
   },
   "outputs": [],
   "source": [
    "# Dependencies and Setup, including import os for path to write to csv\n",
    "import os\n",
    "\n",
    "import matplotlib.pyplot as plt\n",
    "import pandas as pd\n",
    "import numpy as np\n",
    "import requests\n",
    "import time\n",
    "from scipy.stats import linregress\n",
    "\n",
    "# Import API key for OpenWeatherMap\n",
    "from config import weather_api_key\n",
    "\n",
    "# Incorporate citipy to determine city from latitude and longitude\n",
    "from citipy import citipy"
   ]
  },
  {
   "cell_type": "code",
   "execution_count": null,
   "metadata": {},
   "outputs": [],
   "source": [
    "# Output File (CSV)\n",
    "output_file = os.path.join(\"..\", \"output_data\", \"cities.csv\")\n",
    "\n",
    "# Range of latitudes and longitudes (all possible for use with np.random)\n",
    "lat_range = (-90, 90)\n",
    "lng_range = (-180, 180)"
   ]
  },
  {
   "cell_type": "markdown",
   "metadata": {},
   "source": [
    "## Generate Cities List"
   ]
  },
  {
   "cell_type": "code",
   "execution_count": null,
   "metadata": {},
   "outputs": [],
   "source": [
    "# List for holding lat_lngs and cities\n",
    "lat_lngs = []\n",
    "cities = []\n",
    "\n",
    "# Create a set of random lat and lng combinations to use to find nearest city with citipy\n",
    "lats = np.random.uniform(lat_range[0], lat_range[1], size=1400)\n",
    "lngs = np.random.uniform(lng_range[0], lng_range[1], size=1400)\n",
    "\n",
    "lat_lngs = zip(lats, lngs)\n",
    "\n",
    "# Identify nearest city for each lat, lng combination\n",
    "for lat_lng in lat_lngs:\n",
    "    city = citipy.nearest_city(lat_lng[0], lat_lng[1]).city_name\n",
    "    \n",
    "    # If the city is unique, then add it to the cities list\n",
    "    if city not in cities:\n",
    "        cities.append(city)\n",
    "\n",
    "# Print the city count to confirm sufficient count (> 500 cities)\n",
    "print(len(cities))"
   ]
  },
  {
   "cell_type": "code",
   "execution_count": null,
   "metadata": {},
   "outputs": [],
   "source": [
    "# View the lengthy list of cities created from the random coordinates\n",
    "cities"
   ]
  },
  {
   "cell_type": "markdown",
   "metadata": {},
   "source": [
    "## Perform API Calls\n",
    "* Perform a weather check on the cities list (using a series of API calls) and include a print log to record each city as it's processed with city number and name  \n",
    "\n",
    "Starter code had print of how the list should look, with groups of about 50  \n",
    "Desired result is from a try, then except message \"City not found. Skipping...\" pass  \n",
    "Goal data frame City Lat Lng MaxTemp Humidity Cloudiness Wind Speed Country Date"
   ]
  },
  {
   "cell_type": "code",
   "execution_count": null,
   "metadata": {},
   "outputs": [],
   "source": [
    "# Starter code had print of how the list should look, with groups of about 50\n",
    "# Desired result is from a try, then except message \"City not found. Skipping...\" pass\n",
    "\n",
    "# Save config information for API calls\n",
    "base_url = \"http://api.openweathermap.org/data/2.5/weather?\"\n",
    "\n",
    "# Build partial query URL, and choose imperial for Fahrenheit\n",
    "query_url = f'{base_url}appid={weather_api_key}&units=imperial&q='"
   ]
  },
  {
   "cell_type": "code",
   "execution_count": null,
   "metadata": {},
   "outputs": [],
   "source": [
    "# Request/receive data using API and put in a dictionary to use for a data frame\n",
    "\n",
    "# Identify start point for the data retrieval\n",
    "print('Beginning Data Retrieval Process\\n\\\n",
    "--------------\\n')\n",
    "\n",
    "# Create a list to store weather info to be requested with the API\n",
    "weather_details = []\n",
    "\n",
    "# Identify the variables in a way to divide into smaller sets, and set starting values\n",
    "record = 0\n",
    "sets = 1\n",
    "\n",
    "# Create a for loop to add details about current weather \n",
    "for city in cities:\n",
    "    record += 1\n",
    "    print(f'Processing Record {record} of Set {sets} | {city}')\n",
    "    \n",
    "    # Once a set reaches 50 cities, move to the next set\n",
    "    if record == 50:\n",
    "        record = 0\n",
    "        sets += 1\n",
    "        \n",
    "# Within the for loop request info needed from OpenWeatherMap\n",
    "    response = requests.get(query_url + city).json()\n",
    "    \n",
    "    # Include a route out if the city requested is not found\n",
    "    try:\n",
    "        # Goal data frame includes City, Lat, Lng, Max Temp, Humidity, Cloudiness, Wind Speed, Country, Date\n",
    "        weather_details.append({\n",
    "            'City': city,\n",
    "            'Lat': response['coord']['lat'],\n",
    "            'Lng': response['coord']['lon'],\n",
    "            'Max Temp': response['main']['temp_max'],\n",
    "            'Humidity': response['main']['humidity'],\n",
    "            'Cloudiness': response['clouds']['all'],\n",
    "            'Wind Speed': response['wind']['speed'],\n",
    "            'Country': response['sys']['country'],\n",
    "            'Date': response['dt']\n",
    "        })\n",
    "    except:\n",
    "        # Identify text to include if the city is not found, and pass to continue the looping\n",
    "        print('City not found. Skipping...')\n",
    "        pass\n",
    "\n",
    "# Add text to show data retrieval has concluded\n",
    "print(f'--------------\\n\\\n",
    "Data Retrieval Complete\\n\\\n",
    "--------------')"
   ]
  },
  {
   "cell_type": "markdown",
   "metadata": {},
   "source": [
    "### Convert Raw Data to DataFrame\n",
    "* Export the city data into a .csv.\n",
    "* Display the DataFrame"
   ]
  },
  {
   "cell_type": "code",
   "execution_count": null,
   "metadata": {
    "scrolled": true
   },
   "outputs": [],
   "source": [
    "# Create a Pandas DataFrame for the information collected\n",
    "weather_df = pd.DataFrame(weather_details)\n",
    "weather_df"
   ]
  },
  {
   "cell_type": "code",
   "execution_count": null,
   "metadata": {},
   "outputs": [],
   "source": [
    "# Export weather to a csv file: output_file = os.path.join(\"..\", \"output_data\", \"cities.csv\")\n",
    "weather_df.to_csv(output_file, header=True) "
   ]
  },
  {
   "cell_type": "markdown",
   "metadata": {},
   "source": [
    "## Inspect the data and remove the cities where the humidity > 100%.\n",
    "----\n",
    "Skip this step if there are no cities that have humidity > 100%. "
   ]
  },
  {
   "cell_type": "code",
   "execution_count": null,
   "metadata": {},
   "outputs": [],
   "source": [
    "# Check out the weather statistics (and check if max humidity > 100)\n",
    "weather_df.describe()"
   ]
  },
  {
   "cell_type": "code",
   "execution_count": null,
   "metadata": {},
   "outputs": [],
   "source": [
    "# Above looks like no humidity is > 100 but will locate any >= to 100 to take a look\n",
    "locations_high_humidity = weather_df.loc[weather_df['Humidity'] >= 100]\n",
    "locations_high_humidity\n",
    "\n",
    "# Confirmed understanding of .describe() humidity column max, no humidity>100 errors exist in data\n",
    "# weather_df is clean data for use in plotting"
   ]
  },
  {
   "cell_type": "code",
   "execution_count": null,
   "metadata": {},
   "outputs": [],
   "source": [
    "# Use time to convert datetime column to mm-dd-yyyy only for a new column"
   ]
  },
  {
   "cell_type": "markdown",
   "metadata": {},
   "source": [
    "## Plotting the Data\n",
    "* Use proper labeling of the plots using plot titles (including date of analysis) and axes labels.\n",
    "* Save the plotted figures as .pngs."
   ]
  },
  {
   "cell_type": "code",
   "execution_count": null,
   "metadata": {
    "scrolled": true
   },
   "outputs": [],
   "source": [
    "# Considered standardizing the x-axis for latitude plotting (min lat ≈ -55, max ≈ 79)\n",
    "# Begin the plot for Latitude vs Temperature\n",
    "# lat_x_axis = np.arange(-60, 100, 20)\n",
    "# lat_x_axis\n",
    "\n",
    "# x_values = lat_x_axis\n",
    "# max temp about 108"
   ]
  },
  {
   "cell_type": "code",
   "execution_count": null,
   "metadata": {},
   "outputs": [],
   "source": [
    "# define a function that will allow simpler plotting\n",
    "def show_plot(x_col, y_col):\n",
    "    x_values = weather_df.iloc[:,x_col]\n",
    "    y_values = weather_df.iloc[:,y_col]\n",
    "    plt.scatter(x_values, y_values, marker='o', facecolor=face, edgecolors=edge)\n",
    "    \n",
    "    plt.title(plot_title)\n",
    "    plt.xlabel(x_label_name)\n",
    "    plt.ylabel(y_label_name)\n",
    "    plt.grid()\n",
    "    plt.show()"
   ]
  },
  {
   "cell_type": "markdown",
   "metadata": {},
   "source": [
    "## Latitude vs. Temperature Plot"
   ]
  },
  {
   "cell_type": "code",
   "execution_count": null,
   "metadata": {},
   "outputs": [],
   "source": [
    "# Plot latitude vs max_temp\n",
    "figure1 = plt.figure(figsize=(8,5))\n",
    "plot_title = 'Latitude vs. Max Temperature (4/24/21)'\n",
    "x_label_name = 'Latitude'\n",
    "y_label_name = 'Max Temperature (F)'\n",
    "face = 'lightpink'\n",
    "edge= 'black'\n",
    "\n",
    "fig1 = show_plot(1, 3)\n",
    "plt.tight_layout()"
   ]
  },
  {
   "cell_type": "code",
   "execution_count": null,
   "metadata": {},
   "outputs": [],
   "source": [
    "# Save the plot to png file in same place as cities.csv\n",
    "# Like output_file = os.path.join(\"..\", \"output_data\", \"cities.csv\")\n",
    "latitude_vs_max_temp_image_path = os.path.join('..', 'output_data', 'LatitudeVsMaxTemp.png')\n",
    "plt.savefig(latitude_vs_max_temp_image_path)\n",
    "\n",
    "plt.show()"
   ]
  },
  {
   "cell_type": "markdown",
   "metadata": {},
   "source": [
    "### From instructions, after each plot add brief explanation of what the code is analyzing\n",
    "* The figure above is plotting the latitude and max temp for each city. The curve seen in the results is expected, since the 0 for the x-axis is the equator and temps would be expected to be the warmest nearer to the equator. The plotting to the left and right sides of the figure are for the latitudes nearer to the poles and so the temperatures are lower than near the equator. "
   ]
  },
  {
   "cell_type": "markdown",
   "metadata": {},
   "source": [
    "## Latitude vs. Humidity Plot"
   ]
  },
  {
   "cell_type": "code",
   "execution_count": null,
   "metadata": {},
   "outputs": [],
   "source": [
    "# Plot latitude vs humidity\n",
    "figure2 = plt.figure(figsize=(8,5))\n",
    "plot_title = 'Latitude vs. Humidity (4/24/21)'\n",
    "x_label_name = 'Latitude'\n",
    "y_label_name = 'Humidity (%)'\n",
    "face = 'orange'\n",
    "edge= 'black'\n",
    "\n",
    "fig2 = show_plot(1, 4)\n",
    "plt.tight_layout()"
   ]
  },
  {
   "cell_type": "code",
   "execution_count": null,
   "metadata": {},
   "outputs": [],
   "source": [
    "# Save the plot to png file in same place as cities.csv\n",
    "# Like output_file = os.path.join(\"..\", \"output_data\", \"cities.csv\")\n",
    "latitude_vs_humidity_image_path = os.path.join('..', 'output_data', 'LatitudeVsHumidity.png')\n",
    "plt.savefig(latitude_vs_humidity_image_path)\n",
    "\n",
    "plt.show()"
   ]
  },
  {
   "cell_type": "markdown",
   "metadata": {},
   "source": [
    "### From instructions, after each plot add brief explanation of what the code is analyzing\n",
    "* The figure above is plotting the latitude and humidity for each city. There does not seem to be evidence of a correlation between latitude and humidity. From weather_df.describe() the mean for humidity is expected at around 66 degrees 'F. Based on where most of the markers are for this plot (heavier in the upper two-fifths of the chart), the linear regression line plot is expected to be fairly horizontal and near to 66 degrees."
   ]
  },
  {
   "cell_type": "markdown",
   "metadata": {},
   "source": [
    "## Latitude vs. Cloudiness Plot"
   ]
  },
  {
   "cell_type": "code",
   "execution_count": null,
   "metadata": {},
   "outputs": [],
   "source": [
    "# Plot latitude vs humidity\n",
    "figure3 = plt.figure(figsize=(8,5))\n",
    "plot_title = 'Latitude vs. Cloudiness (4/23/21)'\n",
    "x_label_name = 'Latitude'\n",
    "y_label_name = 'Cloudiness (%)'\n",
    "face = 'lightskyblue'\n",
    "edge= 'black'\n",
    "\n",
    "fig3 = show_plot(1, 5)\n",
    "plt.tight_layout()"
   ]
  },
  {
   "cell_type": "code",
   "execution_count": null,
   "metadata": {},
   "outputs": [],
   "source": [
    "# Save the plot to png file in same place as cities.csv\n",
    "# Like output_file = os.path.join(\"..\", \"output_data\", \"cities.csv\")\n",
    "latitude_vs_cloudiness_image_path = os.path.join('..', 'output_data', 'LatitudeVsCloudiness.png')\n",
    "plt.savefig(latitude_vs_cloudiness_image_path)\n",
    "\n",
    "plt.show()"
   ]
  },
  {
   "cell_type": "markdown",
   "metadata": {},
   "source": [
    "### From instructions, after each plot add brief explanation of what the code is analyzing\n",
    "* The figure above is plotting the latitude and cloudiness, and the linear regression is expected to show that there is no correlation between these factors. Whether looking in the southern hemisphere or the northern, cloudiness varies greatly."
   ]
  },
  {
   "cell_type": "markdown",
   "metadata": {},
   "source": [
    "## Latitude vs. Wind Speed Plot"
   ]
  },
  {
   "cell_type": "code",
   "execution_count": null,
   "metadata": {},
   "outputs": [],
   "source": [
    "# Plot latitude vs humidity\n",
    "figure4 = plt.figure(figsize=(8,5))\n",
    "plot_title = 'Latitude vs. Wind Speed (4/23/21)'\n",
    "x_label_name = 'Latitude'\n",
    "y_label_name = 'Wind Speed (mph)'\n",
    "face = 'purple'\n",
    "edge= 'black'\n",
    "\n",
    "fig4 = show_plot(1, 6)\n",
    "plt.tight_layout()"
   ]
  },
  {
   "cell_type": "code",
   "execution_count": null,
   "metadata": {},
   "outputs": [],
   "source": [
    "# Save the plot to png file in same place as cities.csv\n",
    "# Like output_file = os.path.join(\"..\", \"output_data\", \"cities.csv\")\n",
    "latitude_vs_windspeed_image_path = os.path.join('..', 'output_data', 'LatitudeVsWindSpeed.png')\n",
    "plt.savefig(latitude_vs_windspeed_image_path)\n",
    "\n",
    "plt.show()"
   ]
  },
  {
   "cell_type": "markdown",
   "metadata": {},
   "source": [
    "### From instructions, after each plot add brief explanation of what the code is analyzing\n",
    "* The figure above is plotting the latitude and wind speed. These also are factors that do not seem to be correlated, whether in the southern or the northern hemisphere."
   ]
  },
  {
   "cell_type": "markdown",
   "metadata": {},
   "source": [
    "## Linear Regression"
   ]
  },
  {
   "cell_type": "markdown",
   "metadata": {},
   "source": [
    "### Divide the df into the northern and southern hemispheres"
   ]
  },
  {
   "cell_type": "code",
   "execution_count": null,
   "metadata": {},
   "outputs": [],
   "source": [
    "# Linear regressions will be done for the northern hemisphere (use latitude for northern >= 0)\n",
    "# Create a df to work with both hemispheres separately\n",
    "northern_weather_df = weather_df.loc[weather_df['Lat'] >= 0]\n",
    "northern_weather_df"
   ]
  },
  {
   "cell_type": "code",
   "execution_count": null,
   "metadata": {},
   "outputs": [],
   "source": [
    "# Create df for linear regressions for the southern hemisphere (latitudes < 0)\n",
    "southern_weather_df = weather_df.loc[weather_df['Lat'] < 0]\n",
    "southern_weather_df                                     "
   ]
  },
  {
   "cell_type": "code",
   "execution_count": null,
   "metadata": {},
   "outputs": [],
   "source": [
    "# Check cities count = 540, same as before\n",
    "s_count = southern_weather_df.count()['City'] \n",
    "n_count = northern_weather_df.count()['City']\n",
    "total_count = s_count + n_count\n",
    "total_count"
   ]
  },
  {
   "cell_type": "markdown",
   "metadata": {},
   "source": [
    "### Define the functions for the plots and linear regressions needed"
   ]
  },
  {
   "cell_type": "code",
   "execution_count": null,
   "metadata": {},
   "outputs": [],
   "source": [
    "# Define additional functions that will allow simpler plotting, by northern and southern hemisphere\n",
    "# For northern\n",
    "def northern_calc_and_show_plot(x_col, y_col):\n",
    "    x_values = northern_weather_df.iloc[:,x_col]\n",
    "    y_values = northern_weather_df.iloc[:,y_col]\n",
    "    \n",
    "    correlation = sts.pearsonr(x_values, y_values)\n",
    "    plt.scatter(x_values, y_values, marker='o', facecolor=face, edgecolors=edge)\n",
    "    \n",
    "    plt.title(plot_title)\n",
    "    plt.xlabel(x_label_name)\n",
    "    plt.ylabel(y_label_name)\n",
    "    plt.grid()\n",
    "    \n",
    "    # For linear regression line\n",
    "    lat_vs_slope, lat_vs_int, lat_vs_r, lat_vs_p, lat_vs_std_err = stats.linregress(x_values, y_values)\n",
    "    line_fit = lat_vs_slope * x_values + lat_vs_int \n",
    " \n",
    "    plt.plot(x_values, line_fit,\"r\", label='y={:,.2f}x+{:.2f}'.format(lat_vs_slope,lat_vs_int))\n",
    "    plt.legend(fontsize=10)\n",
    "    \n",
    "    round_correlation = round(correlation[0], 2)\n",
    "    \n",
    "    print(f'pearsonr results: {correlation}.')\n",
    "    print(f'The correlation between these two factors is {round_correlation}.')\n",
    "    plt.show()    "
   ]
  },
  {
   "cell_type": "code",
   "execution_count": null,
   "metadata": {},
   "outputs": [],
   "source": [
    "# Define two more functions that will allow simpler plotting, by northern and southern hemisphere\n",
    "# For southern\n",
    "def southern_calc_and_show_plot(x_col, y_col):\n",
    "    x_values = southern_weather_df.iloc[:,x_col]\n",
    "    y_values = southern_weather_df.iloc[:,y_col]\n",
    "    \n",
    "    correlation = sts.pearsonr(x_values, y_values)\n",
    "    plt.scatter(x_values, y_values, marker='o', facecolor=face, edgecolors=edge)\n",
    "    \n",
    "    plt.title(plot_title)\n",
    "    plt.xlabel(x_label_name)\n",
    "    plt.ylabel(y_label_name)\n",
    "    plt.grid()\n",
    "    \n",
    "    # For linear regression line\n",
    "    lat_vs_slope, lat_vs_int, lat_vs_r, lat_vs_p, lat_vs_std_err = stats.linregress(x_col, y_col)\n",
    "    line_fit = lat_vs_slope * x_col + lat_vs_int \n",
    " \n",
    "    plt.plot(x_col, line_fit,\"r\", label='y={:,.2f}x+{:.2f}'.format(lat_vs_slope,lat_vs_int))\n",
    "    plt.legend(fontsize=10)\n",
    "    \n",
    "    plt.show()"
   ]
  },
  {
   "cell_type": "markdown",
   "metadata": {},
   "source": [
    "####  Northern Hemisphere - Max Temp vs. Latitude Linear Regression"
   ]
  },
  {
   "cell_type": "code",
   "execution_count": null,
   "metadata": {},
   "outputs": [],
   "source": [
    "# Plot latitude vs max_temp, northern hemisphere\n",
    "figure5 = plt.figure(figsize=(8,5))\n",
    "plot_title = 'Northern Hemisphere\\n\\\n",
    "Latitude vs. Max Temperature (4/23/21)'\n",
    "x_label_name = 'Latitude'\n",
    "y_label_name = 'Max Temperature (F))'\n",
    "face = 'lightpink'\n",
    "edge= 'black'\n",
    "\n",
    "# Set ylim for entire temp range shown on weather_df.describe() for consistency betw s and n plots\n",
    "plt.ylim(-15, 110)\n",
    "\n",
    "# Plot with columns 1 and 3\n",
    "fig5 = northern_calc_and_show_plot(1, 3)\n",
    "plt.tight_layout()\n",
    "\n",
    "x_col_value = northern_\n",
    "plt.plot()"
   ]
  },
  {
   "cell_type": "code",
   "execution_count": null,
   "metadata": {},
   "outputs": [],
   "source": [
    "# Save the plot to png file in same place as cities.csv\n",
    "n_max_temp_lin_reg_image = os.path.join('..', 'output_data', 'N-LatitudeVsMaxTempWithLinReg.png')\n",
    "plt.savefig(n_max_temp_lin_reg_image)\n",
    "\n",
    "\n",
    "plt.show()"
   ]
  },
  {
   "cell_type": "code",
   "execution_count": null,
   "metadata": {},
   "outputs": [],
   "source": [
    "# Add observations for each plot with a linear regression"
   ]
  },
  {
   "cell_type": "markdown",
   "metadata": {},
   "source": [
    "####  Southern Hemisphere - Max Temp vs. Latitude Linear Regression"
   ]
  },
  {
   "cell_type": "code",
   "execution_count": null,
   "metadata": {},
   "outputs": [],
   "source": [
    "# Plot latitude vs max_temp, southern hemisphere\n",
    "figure6 = plt.figure(figsize=(8,5))\n",
    "plot_title = 'Southern Hemisphere\\n\\\n",
    "Latitude vs. Max Temperature (4/23/21)'\n",
    "x_label_name = 'Latitude'\n",
    "y_label_name = 'Max Temperature (F)'\n",
    "face = 'lightpink'\n",
    "edge= 'black'\n",
    "\n",
    "# Set ylim for entire temp range shown on weather_df.describe() for consistency betw s and n  plots\n",
    "plt.ylim(-15, 110)\n",
    "    \n",
    "fig6 = southern_calc_and_show_plot(1, 3)\n",
    "plt.tight_layout()"
   ]
  },
  {
   "cell_type": "code",
   "execution_count": null,
   "metadata": {},
   "outputs": [],
   "source": [
    "# Save the plot to png file in same place as cities.csv\n",
    "s_max_temp_lin_reg_image = os.path.join('..', 'output_data', 'S-LatitudeVsMaxTempWithLinReg.png')\n",
    "plt.savefig(s_max_temp_lin_reg_image)\n",
    "\n",
    "\n",
    "plt.show()"
   ]
  },
  {
   "cell_type": "code",
   "execution_count": null,
   "metadata": {},
   "outputs": [],
   "source": []
  },
  {
   "cell_type": "markdown",
   "metadata": {},
   "source": [
    "####  Northern Hemisphere - Humidity (%) vs. Latitude Linear Regression"
   ]
  },
  {
   "cell_type": "code",
   "execution_count": null,
   "metadata": {},
   "outputs": [],
   "source": [
    "# Plot latitude vs humidity, northern hemisphere\n",
    "figure7 = plt.figure(figsize=(8,5))\n",
    "plot_title = 'Northern Hemisphere\\n\\\n",
    "Latitude vs. Humidity (4/23/21)'\n",
    "\n",
    "x_label_name = 'Latitude'\n",
    "y_label_name = 'Humidity (%)'\n",
    "face = 'orange'\n",
    "edge= 'black'\n",
    "\n",
    "# Set ylim for entire range of humidity 0 to 100% for consistency between northern and southern plots\n",
    "plt.ylim(0, 100)\n",
    "\n",
    "fig7 = northern_calc_and_show_plot(1, 4)\n",
    "plttight_layout()"
   ]
  },
  {
   "cell_type": "code",
   "execution_count": null,
   "metadata": {},
   "outputs": [],
   "source": [
    "# Save the plot to png file in same place as cities.csv\n",
    "n_humidity_lin_reg_image = os.path.join('..', 'output_data', 'N-LatitudeVsHumWithLinReg.png')\n",
    "plt.savefig(n_humidity_lin_reg_image)\n",
    "\n",
    "plt.show()"
   ]
  },
  {
   "cell_type": "code",
   "execution_count": null,
   "metadata": {},
   "outputs": [],
   "source": []
  },
  {
   "cell_type": "markdown",
   "metadata": {},
   "source": [
    "####  Southern Hemisphere - Humidity (%) vs. Latitude Linear Regression"
   ]
  },
  {
   "cell_type": "code",
   "execution_count": null,
   "metadata": {},
   "outputs": [],
   "source": [
    "# Plot latitude vs humidity, southern hemisphere\n",
    "figure8 = plt.figure(figsize=(8,5))\n",
    "plot_title = 'Southern Hemisphere\\n\\\n",
    "Latitude vs. Humidity (4/23/21)'\n",
    "\n",
    "x_label_name = 'Latitude'\n",
    "y_label_name = 'Humidity (%)'\n",
    "face = 'orange'\n",
    "edge= 'black'\n",
    "\n",
    "# Set ylim for entire range of humidity 0 to 100% for consistency between northern and southern plots\n",
    "plt.ylim(0, 100)\n",
    "\n",
    "fig8 = southern_calc_and_show_plot(1, 4)\n",
    "plt.tight_layout()"
   ]
  },
  {
   "cell_type": "code",
   "execution_count": null,
   "metadata": {},
   "outputs": [],
   "source": [
    "# Save the plot to png file in same place as cities.csv\n",
    "s_humidity_lin_reg_image= os.path.join('..', 'output_data', 'S-LatitudeVsHumWithLinReg.png')\n",
    "plt.savefig(s_humidity_lin_reg_image)\n",
    "\n",
    "plt.show()"
   ]
  },
  {
   "cell_type": "code",
   "execution_count": null,
   "metadata": {},
   "outputs": [],
   "source": []
  },
  {
   "cell_type": "markdown",
   "metadata": {},
   "source": [
    "####  Northern Hemisphere - Cloudiness (%) vs. Latitude Linear Regression"
   ]
  },
  {
   "cell_type": "code",
   "execution_count": null,
   "metadata": {},
   "outputs": [],
   "source": [
    "# Plot latitude vs cloudiness, northern hemisphere\n",
    "figure9 = plt.figure(figsize=(8,5))\n",
    "plot_title = 'Northern Hemisphere\\n\\\n",
    "Latitude vs. Cloudiness (4/23/21)'\n",
    "\n",
    "x_label_name = 'Latitude'\n",
    "y_label_name = 'Cloudiness (%)'\n",
    "face = 'lightskyblue'\n",
    "edge= 'black'\n",
    "\n",
    "# Set ylim for entire range of cloudiness 0 to 100% for consistency between northern and southern plots\n",
    "plt.ylim(0, 100)\n",
    "\n",
    "fig7 = northern_calc_and_show_plot(1, 5)\n",
    "plttight_layout()"
   ]
  },
  {
   "cell_type": "code",
   "execution_count": null,
   "metadata": {},
   "outputs": [],
   "source": [
    "# Save the plot to png file in same place as cities.csv\n",
    "n_cloudiness_lin_reg_image = os.path.join('..', 'output_data', 'N-LatVsCloudsWithLinReg.png')\n",
    "plt.savefig(n_cloudiness_image)\n",
    "\n",
    "plt.show()"
   ]
  },
  {
   "cell_type": "code",
   "execution_count": null,
   "metadata": {},
   "outputs": [],
   "source": []
  },
  {
   "cell_type": "markdown",
   "metadata": {},
   "source": [
    "####  Southern Hemisphere - Cloudiness (%) vs. Latitude Linear Regression"
   ]
  },
  {
   "cell_type": "code",
   "execution_count": null,
   "metadata": {},
   "outputs": [],
   "source": [
    "# Plot latitude vs cloudiness, southern hemisphere\n",
    "figure10 = plt.figure(figsize=(8,5))\n",
    "plot_title = 'Southern Hemisphere\\n\\\n",
    "Latitude vs. Cloudiness (4/23/21)'\n",
    "\n",
    "x_label_name = 'Latitude'\n",
    "y_label_name = 'Cloudiness (%)'\n",
    "face = 'lightskyblue'\n",
    "edge= 'black'\n",
    "\n",
    "# Set ylim for entire range of cloudiness 0 to 100% for consistency between northern and southern plots\n",
    "plt.ylim(0, 100)\n",
    "\n",
    "fig10 = southern_calc_and_show_plot(1, 5)\n",
    "plt.tight_layout()"
   ]
  },
  {
   "cell_type": "code",
   "execution_count": null,
   "metadata": {},
   "outputs": [],
   "source": [
    "# Save the plot to png file in same place as cities.csv\n",
    "s_cloudiness_lin_reg_image = os.path.join('..', 'output_data', 'S-LatVsCloudsWithLinReg.png')\n",
    "plt.savefig(s__cloudiness_image)\n",
    "\n",
    "plt.show()"
   ]
  },
  {
   "cell_type": "code",
   "execution_count": null,
   "metadata": {},
   "outputs": [],
   "source": []
  },
  {
   "cell_type": "markdown",
   "metadata": {},
   "source": [
    "####  Northern Hemisphere - Wind Speed (mph) vs. Latitude Linear Regression"
   ]
  },
  {
   "cell_type": "code",
   "execution_count": null,
   "metadata": {},
   "outputs": [],
   "source": [
    "# Plot latitude vs wind speed, norhtern hemisphere\n",
    "figure11 = plt.figure(figsize=(8,5))\n",
    "plot_title = 'Northern Hemisphere\\n\\\n",
    "Latitude vs. Wind Speed (4/23/21)'\n",
    "\n",
    "x_label_name = 'Latitude'\n",
    "y_label_name = 'Wind Speed (mph)'\n",
    "face = 'purple'\n",
    "edge= 'black'\n",
    "\n",
    "\n",
    "# Set ylim for entire range of winds (0.43 to max of 35.9) for consistency between northern and southern plots\n",
    "plt.ylim(0, 40)\n",
    "fig11 = northern_calc_and_show_plot(1, 6)\n",
    "plttight_layout()"
   ]
  },
  {
   "cell_type": "code",
   "execution_count": null,
   "metadata": {},
   "outputs": [],
   "source": [
    "# Save the plot to png file in same place as cities.csv\n",
    "n_wind_lin_reg_image = os.path.join('..', 'output_data', 'N-LatVsWindWithLinReg.png')\n",
    "plt.savefig(n_wind_lin_reg_image)\n",
    "\n",
    "plt.show()"
   ]
  },
  {
   "cell_type": "code",
   "execution_count": null,
   "metadata": {},
   "outputs": [],
   "source": []
  },
  {
   "cell_type": "markdown",
   "metadata": {},
   "source": [
    "####  Southern Hemisphere - Wind Speed (mph) vs. Latitude Linear Regression"
   ]
  },
  {
   "cell_type": "code",
   "execution_count": null,
   "metadata": {},
   "outputs": [],
   "source": [
    "# Plot latitude vs wind speed, southern hemisphere\n",
    "figure12 = plt.figure(figsize=(8,5))\n",
    "plot_title = 'Southern Hemisphere\\n\\\n",
    "Latitude vs. Wind Speed (4/23/21)'\n",
    "\n",
    "x_label_name = 'Latitude'\n",
    "y_label_name = 'Wind Speed (mph)'\n",
    "face = 'purple'\n",
    "edge= 'black'\n",
    "\n",
    "# Set ylim for entire range of winds (0.43 to max of 35.9) for consistency between northern and southern plots\n",
    "plt.ylim(0, 40)\n",
    "\n",
    "fig12 = southern_calc_and_show_plot(1, 6)\n",
    "plt.tight_layout()"
   ]
  },
  {
   "cell_type": "code",
   "execution_count": null,
   "metadata": {},
   "outputs": [],
   "source": [
    "# Save the plot to png file in same place as cities.csv\n",
    "s_wind_lin_reg_image = os.path.join('..', 'output_data', 'S-LatVsWindWithLinReg.png')\n",
    "plt.savefig(s_wind_lin_reg_image)\n",
    "\n",
    "plt.show()"
   ]
  },
  {
   "cell_type": "code",
   "execution_count": null,
   "metadata": {},
   "outputs": [],
   "source": []
  },
  {
   "cell_type": "code",
   "execution_count": null,
   "metadata": {},
   "outputs": [],
   "source": []
  }
 ],
 "metadata": {
  "anaconda-cloud": {},
  "kernel_info": {
   "name": "python3"
  },
  "kernelspec": {
   "display_name": "PythonData",
   "language": "python",
   "name": "pythondata"
  },
  "language_info": {
   "codemirror_mode": {
    "name": "ipython",
    "version": 3
   },
   "file_extension": ".py",
   "mimetype": "text/x-python",
   "name": "python",
   "nbconvert_exporter": "python",
   "pygments_lexer": "ipython3",
   "version": "3.6.10"
  },
  "latex_envs": {
   "LaTeX_envs_menu_present": true,
   "autoclose": false,
   "autocomplete": true,
   "bibliofile": "biblio.bib",
   "cite_by": "apalike",
   "current_citInitial": 1,
   "eqLabelWithNumbers": true,
   "eqNumInitial": 1,
   "hotkeys": {
    "equation": "Ctrl-E",
    "itemize": "Ctrl-I"
   },
   "labels_anchors": false,
   "latex_user_defs": false,
   "report_style_numbering": false,
   "user_envs_cfg": false
  },
  "nteract": {
   "version": "0.12.3"
  }
 },
 "nbformat": 4,
 "nbformat_minor": 2
}
